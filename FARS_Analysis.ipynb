{
 "cells": [
  {
   "cell_type": "markdown",
   "metadata": {},
   "source": [
    "# Fatal Analysis Reporting System Analysis\n",
    "Written by Casey Martin"
   ]
  },
  {
   "cell_type": "markdown",
   "metadata": {},
   "source": [
    "First, I want to grab all information from each file that is relevant to the questions. Variables needed: STATE, DAY_WEEK, HOUR, DRUNK_DR, MAN_COLL\n",
    "To accomplish this, I create a pandas dataframe and concatenate all information from each file. I will select individual components later. I did move the population file outside of the FARS folder into the directory with the jupyter notebook file to more easily store the two in separate data frames."
   ]
  },
  {
   "cell_type": "code",
   "execution_count": 1,
   "metadata": {
    "collapsed": true
   },
   "outputs": [],
   "source": [
    "import glob\n",
    "import pandas as pd\n",
    "\n",
    "files = glob.glob(\".\\\\FARS/*.csv\")\n",
    "frame = pd.DataFrame()\n",
    "templist = []\n",
    "for file in files:\n",
    "    df = pd.read_csv(file,index_col=None, header=0)\n",
    "    templist.append(df)\n",
    "frame = pd.concat(templist)"
   ]
  },
  {
   "cell_type": "markdown",
   "metadata": {},
   "source": [
    "### Question 1: Pre-coding Logic\n",
    "First, count the occurrances of each day (numbered 1[Sunday] - 7[Saturday]) and create a list for each STATE (1 - 56, some index values missing). Second, determine the maximum value in those lists. Third, format the output neatly."
   ]
  },
  {
   "cell_type": "code",
   "execution_count": 2,
   "metadata": {},
   "outputs": [
    {
     "name": "stdout",
     "output_type": "stream",
     "text": [
      "State  High_Day   Occurrances\n",
      "    1  Saturday   166\n",
      "    2  Friday     15\n",
      "    4  Saturday   150\n",
      "    5  Monday     85\n",
      "    6  Saturday   614\n",
      "    8  Friday     95\n",
      "    9  Thursday   50\n",
      "   10  Saturday   26\n",
      "   11  Friday     5\n",
      "   12  Saturday   507\n",
      "   13  Saturday   258\n",
      "   15  Saturday   25\n",
      "   16  Friday     38\n",
      "   17  Saturday   202\n",
      "   18  Friday     127\n",
      "   19  Saturday   65\n",
      "   20  Saturday   63\n",
      "   21  Saturday   133\n",
      "   22  Sunday     128\n",
      "   23  Saturday   30\n",
      "   24  Saturday   96\n",
      "   25  Saturday   61\n",
      "   26  Saturday   175\n",
      "   27  Saturday   58\n",
      "   28  Saturday   118\n",
      "   29  Saturday   156\n",
      "   30  Saturday   34\n",
      "   31  Sunday     38\n",
      "   32  Saturday   56\n",
      "   33  Friday     26\n",
      "   34  Saturday   105\n",
      "   35  Saturday   69\n",
      "   36  Saturday   159\n",
      "   37  Saturday   219\n",
      "   38  Saturday   22\n",
      "   39  Saturday   194\n",
      "   40  Saturday   109\n",
      "   41  Saturday   76\n",
      "   42  Friday     186\n",
      "   44  Thursday   14\n",
      "   45  Saturday   182\n",
      "   46  Saturday   18\n",
      "   47  Saturday   187\n",
      "   48  Saturday   604\n",
      "   49  Saturday   44\n",
      "   50  Wednesday  11\n",
      "   51  Saturday   139\n",
      "   53  Saturday   87\n",
      "   54  Wednesday  41\n",
      "   55  Saturday   112\n",
      "   56  Thursday   19\n"
     ]
    }
   ],
   "source": [
    "print('{0:6s} {1:10s} {2:10s}'.format('State','High_Day','Occurrances'))\n",
    "for i in range(56):\n",
    "    tempframe = pd.DataFrame()\n",
    "    try:\n",
    "        tempframe = frame.loc[frame['STATE'] == i+1]\n",
    "        count = []\n",
    "        for j in range(7):\n",
    "            count.append(tempframe.DAY_WEEK.value_counts()[j+1])\n",
    "            \n",
    "        print('{0:5d}'.format(i+1), end='  ')\n",
    "        if count.index(max(count))+1 is 1:\n",
    "            print('{0:10s}'.format('Sunday'), end=' ')\n",
    "        elif count.index(max(count))+1 is 2:\n",
    "            print('{0:10s}'.format('Monday'), end=' ')\n",
    "        elif count.index(max(count))+1 is 3:\n",
    "            print('{0:10s}'.format('Tuesday'), end=' ')\n",
    "        elif count.index(max(count))+1 is 4:\n",
    "            print('{0:10s}'.format('Wednesday'), end=' ')\n",
    "        elif count.index(max(count))+1 is 5:\n",
    "            print('{0:10s}'.format('Thursday'), end=' ')\n",
    "        elif count.index(max(count))+1 is 6:\n",
    "            print('{0:10s}'.format('Friday'), end=' ')\n",
    "        elif count.index(max(count))+1 is 7:\n",
    "            print('{0:10s}'.format('Saturday'), end=' ')\n",
    "        print(max(count))\n",
    "        \n",
    "    except:\n",
    "        pass\n"
   ]
  },
  {
   "cell_type": "markdown",
   "metadata": {},
   "source": [
    "### Question 1: Discussion\n",
    "Clearly, the day the most accidents occur is Saturday. Most states that do not have the most accidents on Saturday have smaller overall accident rates. The second most frequent day seems to be Friday, which I would generally expect given that Saturday and Friday are typically the most traveled days. Non-Saturday or Friday results are generally relegated to states with much smaller sample sizes."
   ]
  },
  {
   "cell_type": "markdown",
   "metadata": {},
   "source": [
    "### Question 2: Pre-Coding Logic\n",
    "Same logic as before, only performed on the entire dataframe at once."
   ]
  },
  {
   "cell_type": "code",
   "execution_count": 3,
   "metadata": {},
   "outputs": [
    {
     "name": "stdout",
     "output_type": "stream",
     "text": [
      "High_Day  Occurances\n",
      "Saturday  6104\n"
     ]
    }
   ],
   "source": [
    "print('{0:10s}{1:10s}'.format('High_Day','Occurances'))\n",
    "\n",
    "count = []\n",
    "for j in range(7):\n",
    "    count.append(frame.DAY_WEEK.value_counts()[j+1])\n",
    "    \n",
    "if count.index(max(count))+1 is 1:\n",
    "    print('{0:10s}'.format('Sunday'), end='')\n",
    "elif count.index(max(count))+1 is 2:\n",
    "    print('{0:10s}'.format('Monday'), end='')\n",
    "elif count.index(max(count))+1 is 3:\n",
    "    print('{0:10s}'.format('Tuesday'), end='')\n",
    "elif count.index(max(count))+1 is 4:\n",
    "    print('{0:10s}'.format('Wednesday'), end='')\n",
    "elif count.index(max(count))+1 is 5:\n",
    "    print('{0:10s}'.format('Thursday'), end='')\n",
    "elif count.index(max(count))+1 is 6:\n",
    "    print('{0:10s}'.format('Friday'), end='')\n",
    "elif count.index(max(count))+1 is 7:\n",
    "    print('{0:10s}'.format('Saturday'), end='')\n",
    "print(max(count))"
   ]
  },
  {
   "cell_type": "markdown",
   "metadata": {},
   "source": [
    "### Question 2: Discussion\n",
    "As expected from the results in question 1, Saturday is the day most accidents occur."
   ]
  },
  {
   "cell_type": "markdown",
   "metadata": {},
   "source": [
    "### Question 3: Pre-Coding Logic\n",
    "This is basically the same question as number 1, but we're looking in HOUR rather than DAY_WEEK and do not have to match a number to a string."
   ]
  },
  {
   "cell_type": "code",
   "execution_count": 4,
   "metadata": {},
   "outputs": [
    {
     "name": "stdout",
     "output_type": "stream",
     "text": [
      "State  Hour   Occurrances\n",
      "  1     16        54\n",
      "  2      5         7\n",
      "  4     19        65\n",
      "  5     17        39\n",
      "  6     20       210\n",
      "  8     13        38\n",
      "  9     17        22\n",
      " 10     21        10\n",
      " 11      2         4\n",
      " 12     21       208\n",
      " 13     18        84\n",
      " 15     20        10\n",
      " 16     16        17\n",
      " 17     16        64\n",
      " 18     17        50\n",
      " 19     17        26\n",
      " 20     16        28\n",
      " 21     16        57\n",
      " 22     17        48\n",
      " 23     18        12\n",
      " 24     22        32\n",
      " 25     22        25\n",
      " 26     15        59\n",
      " 27     15        28\n",
      " 28     17        41\n",
      " 29     18        57\n",
      " 30     15        13\n",
      " 31      2        14\n",
      " 32     23        22\n",
      " 33     16        11\n",
      " 34     18        42\n",
      " 35     20        31\n",
      " 36     17        59\n",
      " 37     18        92\n",
      " 38     16         9\n",
      " 39     19        77\n",
      " 40     16        41\n",
      " 41     17        31\n",
      " 42     17        64\n",
      " 44      1         6\n",
      " 45     17        64\n",
      " 46     14        10\n",
      " 47     16        61\n",
      " 48     20       200\n",
      " 49     13        26\n",
      " 50     15         6\n",
      " 51     17        60\n",
      " 53     15        34\n",
      " 54     15        24\n",
      " 55     17        45\n",
      " 56     12        11\n"
     ]
    }
   ],
   "source": [
    "print('{0:7s}{1:7s}{2:10s}'.format('State','Hour','Occurrances'))\n",
    "for i in range(56):\n",
    "    tempframe = pd.DataFrame()\n",
    "    try:\n",
    "        tempframe = frame.loc[frame['STATE'] == i+1]\n",
    "        count = []\n",
    "        for j in range(24):\n",
    "            try:\n",
    "                count.append(tempframe.HOUR.value_counts()[j])\n",
    "            except:\n",
    "                count.append(0)\n",
    "        if max(count) > 0:\n",
    "            print('{0:3d}{1:7d}{2:10d}'.format(\n",
    "                i+1,count.index(max(count)),max(count)))\n",
    "    except:\n",
    "        pass"
   ]
  },
  {
   "cell_type": "markdown",
   "metadata": {},
   "source": [
    "### Question 3: Discussion\n",
    "As expected, on average, states highest accident rates are later in the day/evening."
   ]
  },
  {
   "cell_type": "markdown",
   "metadata": {},
   "source": [
    "### Question 4: Pre-Coding Logic\n",
    "A hybrid solution of question 2 and 3 should do the trick here."
   ]
  },
  {
   "cell_type": "code",
   "execution_count": 5,
   "metadata": {},
   "outputs": [
    {
     "name": "stdout",
     "output_type": "stream",
     "text": [
      "Hour   Occurrances\n",
      "18     1984\n"
     ]
    }
   ],
   "source": [
    "print('{0:7s}{1:10s}'.format('Hour','Occurrances'))\n",
    "\n",
    "count = []\n",
    "for j in range(24):\n",
    "    try:\n",
    "        count.append(frame.HOUR.value_counts()[j])\n",
    "    except:\n",
    "        count.append(0)\n",
    "if max(count) > 0:\n",
    "    print('{0:2d}{1:9d}'.format(count.index(max(count)),max(count)))"
   ]
  },
  {
   "cell_type": "markdown",
   "metadata": {},
   "source": [
    "### Question 4: Discussion\n",
    "6 PM is the most frequent hour that accidents occur, which seems reasonable given that this is around rush hour and in the afternoon when people are tired. "
   ]
  },
  {
   "cell_type": "markdown",
   "metadata": {},
   "source": [
    "### Question 5: Pre-Coding Logic\n",
    "In this case, create a tempframe for each state, then count the number of DRUNK_DR > 0 as well as the overall length of the frame, and divide the count by length for each state."
   ]
  },
  {
   "cell_type": "code",
   "execution_count": 6,
   "metadata": {},
   "outputs": [
    {
     "name": "stdout",
     "output_type": "stream",
     "text": [
      "State   % of Acc. w/Drunk Driver\n",
      "  1     14.62%\n",
      "  2     44.87%\n",
      "  4     23.35%\n",
      "  5     23.36%\n",
      "  6     23.44%\n",
      "  8     33.69%\n",
      "  9     29.54%\n",
      " 10     31.03%\n",
      " 11     38.46%\n",
      " 12     21.24%\n",
      " 13     21.73%\n",
      " 15     24.77%\n",
      " 16     28.45%\n",
      " 17     26.42%\n",
      " 18     17.71%\n",
      " 19     25.84%\n",
      " 20     20.47%\n",
      " 21     24.90%\n",
      " 22     29.55%\n",
      " 23     31.13%\n",
      " 24     23.73%\n",
      " 25     28.69%\n",
      " 26     24.80%\n",
      " 27     27.73%\n",
      " 28     16.40%\n",
      " 29     27.53%\n",
      " 30     47.95%\n",
      " 31     38.66%\n",
      " 32     29.70%\n",
      " 33     30.00%\n",
      " 34     21.97%\n",
      " 35     29.05%\n",
      " 36     17.20%\n",
      " 37     28.41%\n",
      " 38     48.04%\n",
      " 39     33.52%\n",
      " 40     27.56%\n",
      " 41     26.91%\n",
      " 42     23.62%\n",
      " 44     37.50%\n",
      " 45     35.47%\n",
      " 46     41.75%\n",
      " 47     22.57%\n",
      " 48     24.71%\n",
      " 49     19.69%\n",
      " 50     47.37%\n",
      " 51     29.22%\n",
      " 53     31.55%\n",
      " 54     27.60%\n",
      " 55     31.99%\n",
      " 56     29.00%\n"
     ]
    }
   ],
   "source": [
    "print('{0:8s}{1:10s}'.format('State','% of Acc. w/Drunk Driver'))\n",
    "for i in range(56):\n",
    "    tempframe = pd.DataFrame()\n",
    "    try:\n",
    "        tempframe = frame.loc[frame['STATE'] == i+1]\n",
    "        count = []\n",
    "        for j in range(20):\n",
    "            try:\n",
    "                if tempframe.DRUNK_DR.value_counts()[j] > 0:\n",
    "                    count.append(tempframe.DRUNK_DR.value_counts()[j])\n",
    "            except:\n",
    "                pass\n",
    "        if len(count) > 0:\n",
    "            print('{0:3d}{1:10.2f}{2:1s}'.format(i+1,100*sum(count[1:])/sum(count),r'%'))\n",
    "    except:\n",
    "        pass"
   ]
  },
  {
   "cell_type": "markdown",
   "metadata": {},
   "source": [
    "### Question 5: Discussion\n",
    "This result was kind of surprising. Some of these values are very high. Clearly, intoxicated driving is one of the highest (if not the highest) cause of traffic accidents. I chose 20 as the maximum number of drunk drivers in an accident because its unrealistically high but wouldnt pick up silly values like 999 often used in leu of real data. This code assumes there is at LEAST one accident not linked to a drunk driver, making non-drunk accidents the 0th element."
   ]
  },
  {
   "cell_type": "markdown",
   "metadata": {},
   "source": [
    "### Question 6: Pre-Coding Logic\n",
    "Similar to question 5, but the original frame is left intact."
   ]
  },
  {
   "cell_type": "code",
   "execution_count": 7,
   "metadata": {},
   "outputs": [
    {
     "name": "stdout",
     "output_type": "stream",
     "text": [
      "Overall % Drunk Driver Accidents:     25.32%\n"
     ]
    }
   ],
   "source": [
    "count = []\n",
    "for j in range(20):\n",
    "    try:\n",
    "        if frame.DRUNK_DR.value_counts()[j] > 0:\n",
    "            count.append(frame.DRUNK_DR.value_counts()[j])\n",
    "    except:\n",
    "        pass\n",
    "if len(count) > 0:\n",
    "    print('{0:3s}{1:10.2f}{2:1s}'.format('Overall % Drunk Driver Accidents:',100*sum(count[1:])/sum(count),r'%'))\n"
   ]
  },
  {
   "cell_type": "markdown",
   "metadata": {},
   "source": [
    "### Question 6: Discussion\n",
    "Much like question 5, this is surprising that over 1/4th of traffic accidents involve drunk drivers. It would be interesting to know what percentage of total miles are driven by drunk drivers to determine a true likelihood. This code has the same limitation that at least one non-drunk accident has to occur in the data."
   ]
  },
  {
   "cell_type": "markdown",
   "metadata": {},
   "source": [
    "### Question 7: Pre-Coding Logic\n",
    "To count the fatalities, we need to check for each occurance of a collission type in MAN_COLL and do a running sum of the fatalities for each type."
   ]
  },
  {
   "cell_type": "code",
   "execution_count": 8,
   "metadata": {},
   "outputs": [
    {
     "name": "stdout",
     "output_type": "stream",
     "text": [
      "Col. Type      Count     \n",
      "       0       21296\n",
      "       1        2350\n",
      "       2        3511\n",
      "       6        6122\n",
      "       7         519\n",
      "       8         421\n",
      "       9          32\n",
      "      10           2\n",
      "      11          86\n",
      "      98          23\n",
      "      99          77\n"
     ]
    }
   ],
   "source": [
    "print('{0:15s}{1:10s}'.format('Col. Type','Count'))\n",
    "for i in [0,1,2,6,7,8,9,10,11,98,99]:\n",
    "    print('{0:8d}{1:12d}'.format(i,frame.MAN_COLL.value_counts()[i]))"
   ]
  },
  {
   "cell_type": "markdown",
   "metadata": {},
   "source": [
    "### Question 7: Discussion\n",
    "It seems that accidents involving a single driver are the most common, which is not surprising. What is, however, is that head-on collisions are more common than front-to-rear. I was not expecting that result."
   ]
  },
  {
   "cell_type": "markdown",
   "metadata": {},
   "source": [
    "### Question 8: Pre-Coding Logic:\n",
    "I will have to load the second file into a new data frame, called frame2, to determine the population of each state, count the number of accidents/drunk driving accidents, then divide by the population/10,000 to normalize. We then have to sort the list and print."
   ]
  },
  {
   "cell_type": "code",
   "execution_count": 9,
   "metadata": {
    "collapsed": true
   },
   "outputs": [],
   "source": [
    "frame2 = pd.read_csv('nst-est2017-alldata.csv',index_col=None, header=0)"
   ]
  },
  {
   "cell_type": "code",
   "execution_count": 10,
   "metadata": {},
   "outputs": [
    {
     "name": "stdout",
     "output_type": "stream",
     "text": [
      "State     # of Fatal Accidents per 10,000\n",
      "   28     2.104\n",
      "    1     1.928\n",
      "   45     1.887\n",
      "   21     1.720\n",
      "   35     1.717\n",
      "   56     1.710\n",
      "   30     1.646\n",
      "    5     1.633\n",
      "   40     1.591\n",
      "   22     1.502\n",
      "   47     1.453\n",
      "   29     1.425\n",
      "   12     1.420\n",
      "   16     1.381\n",
      "   13     1.379\n",
      "   54     1.367\n",
      "   38     1.350\n",
      "   37     1.327\n",
      "   20     1.310\n",
      "    4     1.252\n",
      "   48     1.221\n",
      "   10     1.218\n",
      "   46     1.196\n",
      "   18     1.158\n",
      "   19     1.137\n",
      "   23     1.135\n",
      "   41     1.092\n",
      "    2     1.052\n",
      "   32     1.031\n",
      "   31     1.017\n",
      "    8     1.009\n",
      "   26     0.987\n",
      "   33     0.974\n",
      "   55     0.942\n",
      "   50     0.914\n",
      "   39     0.906\n",
      "   51     0.858\n",
      "    6     0.854\n",
      "   42     0.851\n",
      "   49     0.851\n",
      "   24     0.783\n",
      "    9     0.783\n",
      "   17     0.781\n",
      "   15     0.763\n",
      "   53     0.692\n",
      "   27     0.646\n",
      "   34     0.634\n",
      "   25     0.526\n",
      "   36     0.486\n",
      "   44     0.454\n",
      "   11     0.380\n"
     ]
    }
   ],
   "source": [
    "from pprint import pprint\n",
    "from operator import itemgetter\n",
    "print('{0:10s}{1:10s}'.format('State','# of Fatal Accidents per 10,000'))\n",
    "data = {}\n",
    "for i in range(56):\n",
    "    tempframe = pd.DataFrame()\n",
    "    tempframe2 = pd.DataFrame()\n",
    "    try:\n",
    "        tempframe = frame.loc[frame['STATE'] == i+1]\n",
    "        tempframe2 = frame2.loc[frame2['STATE'] == i+1]\n",
    "        normCounts = tempframe.FATALS.count()*10000/tempframe2.iloc[0]['POPESTIMATE2016']\n",
    "        data.update({tempframe.iloc[0]['STATE']:normCounts})\n",
    "    except:\n",
    "        pass\n",
    "sortD = sorted(data.items(),key=itemgetter(1), reverse=True)\n",
    "for line in sortD:\n",
    "    print('{0:5d}{1:10.3f}'.format(line[0],line[1]))"
   ]
  },
  {
   "cell_type": "markdown",
   "metadata": {},
   "source": [
    "### Question 8: Discussion\n",
    "This one was another surprise; there is quite a large spread. Some states have vastly higher accident rates than others. For example, Missippi has 4.6 times the fatal accident rate of Rhode Island."
   ]
  },
  {
   "cell_type": "markdown",
   "metadata": {},
   "source": [
    "### Question 9: Pre-Coding Logic\n",
    "Similar to question 8, but will have to count the number of DRUNK_DR > 0 and sum them, then normalize. After that, sort and print. Also, it turns out that since ALL accidents reported here have at least one fatality, I don't have to filter out the 0 fatality accidents."
   ]
  },
  {
   "cell_type": "code",
   "execution_count": 11,
   "metadata": {},
   "outputs": [
    {
     "name": "stdout",
     "output_type": "stream",
     "text": [
      "1    31984\n",
      "2     2033\n",
      "3      315\n",
      "4       80\n",
      "5       19\n",
      "6        7\n",
      "9        1\n",
      "Name: FATALS, dtype: int64\n"
     ]
    }
   ],
   "source": [
    "print(frame.FATALS.value_counts())"
   ]
  },
  {
   "cell_type": "code",
   "execution_count": 12,
   "metadata": {},
   "outputs": [
    {
     "name": "stdout",
     "output_type": "stream",
     "text": [
      "State     # of Fatal Accidents w/Drunk Driver per 10,000\n",
      "   30     0.789\n",
      "   45     0.669\n",
      "   38     0.649\n",
      "   46     0.499\n",
      "   35     0.499\n",
      "   56     0.496\n",
      "    2     0.472\n",
      "   22     0.444\n",
      "   40     0.439\n",
      "   50     0.433\n",
      "   21     0.428\n",
      "   31     0.393\n",
      "   16     0.393\n",
      "   29     0.392\n",
      "    5     0.381\n",
      "   10     0.378\n",
      "   54     0.377\n",
      "   37     0.377\n",
      "   23     0.353\n",
      "   28     0.345\n",
      "    8     0.340\n",
      "   47     0.328\n",
      "   32     0.306\n",
      "   39     0.304\n",
      "   48     0.302\n",
      "   12     0.302\n",
      "   55     0.301\n",
      "   13     0.300\n",
      "   19     0.294\n",
      "   41     0.294\n",
      "    4     0.292\n",
      "   33     0.292\n",
      "    1     0.282\n",
      "   20     0.268\n",
      "   51     0.251\n",
      "   26     0.245\n",
      "    9     0.231\n",
      "   53     0.218\n",
      "   17     0.206\n",
      "   18     0.205\n",
      "   42     0.201\n",
      "    6     0.200\n",
      "   15     0.189\n",
      "   24     0.186\n",
      "   27     0.179\n",
      "   44     0.170\n",
      "   49     0.168\n",
      "   25     0.151\n",
      "   11     0.146\n",
      "   34     0.139\n",
      "   36     0.084\n"
     ]
    }
   ],
   "source": [
    "print('{0:10s}{1:10s}'.format('State','# of Fatal Accidents w/Drunk Driver per 10,000'))\n",
    "for i in range(56):\n",
    "    counts = []\n",
    "    tempframe = pd.DataFrame()\n",
    "    tempframe2 = pd.DataFrame()\n",
    "    try:\n",
    "        tempframe = frame.loc[frame['STATE'] == i+1]\n",
    "        tempframe2 = frame2.loc[frame2['STATE'] == i+1]\n",
    "        for j in range(5):\n",
    "            try:\n",
    "                if tempframe.DRUNK_DR.value_counts()[j+1] > 0:\n",
    "                    counts.append(tempframe.DRUNK_DR.value_counts()[j+1])\n",
    "                    sumCounts = sum(counts)\n",
    "                    normCounts = sumCounts*10000/tempframe2.iloc[0]['POPESTIMATE2016']\n",
    "                    data.update({tempframe.iloc[0]['STATE']:normCounts})\n",
    "            except:\n",
    "                pass\n",
    "    except:\n",
    "        pass\n",
    "sortD = sorted(data.items(),key=itemgetter(1), reverse=True)\n",
    "for line in sortD:\n",
    "    print('{0:5d}{1:10.3f}'.format(line[0],line[1]))"
   ]
  },
  {
   "cell_type": "markdown",
   "metadata": {},
   "source": [
    "### Question 9: Discussion\n",
    "I expected similar results to number 8, but some states rank very differently on this list. For example; Mississippi, despite having the highest overall accident rate, has a much lower rate of drunk driver accidents per 10,000 than 19 other states."
   ]
  }
 ],
 "metadata": {
  "kernelspec": {
   "display_name": "Python 3",
   "language": "python",
   "name": "python3"
  },
  "language_info": {
   "codemirror_mode": {
    "name": "ipython",
    "version": 3
   },
   "file_extension": ".py",
   "mimetype": "text/x-python",
   "name": "python",
   "nbconvert_exporter": "python",
   "pygments_lexer": "ipython3",
   "version": "3.6.4"
  }
 },
 "nbformat": 4,
 "nbformat_minor": 2
}
